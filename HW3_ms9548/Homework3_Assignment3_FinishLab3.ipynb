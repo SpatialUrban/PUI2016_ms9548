{
 "cells": [
  {
   "cell_type": "code",
   "execution_count": 45,
   "metadata": {
    "collapsed": false
   },
   "outputs": [
    {
     "name": "stdout",
     "output_type": "stream",
     "text": [
      "The Z Value for the old and new mean bus travel times is: 2.56\n",
      "A Z Value greater than 2 indicates that, with 95% certainty (α = 0.05), the new mean bus travel time is not the same or longer than the old bus travel time.\n"
     ]
    }
   ],
   "source": [
    "# Matt Sloane (ms9548)\n",
    "# Homework 3 - Assignment 3: Finish Lab 3 Z-Test\n",
    "\n",
    "from __future__ import division, print_function\n",
    "__author__ = 'ms9548 CUSP 2016'\n",
    "import os\n",
    "import numpy as np\n",
    "from numpy.random import randn\n",
    "import pylab as pl\n",
    "\n",
    "from pandas import Series, DataFrame\n",
    "import pandas\n",
    "import pandas as pd\n",
    "\n",
    "# Note - I resaved the .txt file as a .csv and added a \"TIMES\" header outside of the python script to \n",
    "# make my life easier\n",
    "\n",
    "csv_import = pd.read_csv(\"times.csv\")  \n",
    "csv_import.head(3)   \n",
    "\n",
    "busTimes_New = csv_import.as_matrix()     # Import bus times into numpy array w/ pandas as_matrix method\n",
    "t_New = busTimes_New.mean()               # Assign new mean travel time\n",
    "t_Old = 36.0                              # Assign old mean travel time (provided in lab instructions)\n",
    "sd_Old = 6.0                              # Assign old sample standard deviation (provided in lab instructions)\n",
    "sample_Count = float(len(busTimes_New))   # Assign new sample count \n",
    "\n",
    "z_Value = (t_Old - t_New)/(sd_Old /(sample_Count**(0.5)))  # Z Value formula \n",
    "\n",
    "z_Value = round(z_Value,2)\n",
    "\n",
    "print ('The Z Value for the old and new mean bus travel times is:', z_Value)\n",
    "\n",
    "if z_Value > 2.:\n",
    "    print ('A Z Value greater than 2 indicates that, with 95% certainty (α = 0.05), the new mean bus travel time',\\\n",
    "           'is not the same or longer than the old bus travel time.')"
   ]
  },
  {
   "cell_type": "code",
   "execution_count": null,
   "metadata": {
    "collapsed": true
   },
   "outputs": [],
   "source": []
  }
 ],
 "metadata": {
  "kernelspec": {
   "display_name": "PUI2016_Python2",
   "language": "python",
   "name": "pui2016_python2"
  },
  "language_info": {
   "codemirror_mode": {
    "name": "ipython",
    "version": 2
   },
   "file_extension": ".py",
   "mimetype": "text/x-python",
   "name": "python",
   "nbconvert_exporter": "python",
   "pygments_lexer": "ipython2",
   "version": "2.7.12"
  }
 },
 "nbformat": 4,
 "nbformat_minor": 0
}
