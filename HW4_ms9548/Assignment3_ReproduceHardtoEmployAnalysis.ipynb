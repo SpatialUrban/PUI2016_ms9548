{
 "cells": [
  {
   "cell_type": "code",
   "execution_count": null,
   "metadata": {
    "collapsed": true
   },
   "outputs": [],
   "source": [
    "# Homework 4 - Assignment 3: Reproduce the analysis of the Hard to Employ program in NY"
   ]
  },
  {
   "cell_type": "code",
   "execution_count": 2,
   "metadata": {
    "collapsed": false
   },
   "outputs": [
    {
     "name": "stdout",
     "output_type": "stream",
     "text": [
      "Populating the interactive namespace from numpy and matplotlib\n"
     ]
    }
   ],
   "source": [
    "import os\n",
    "import sys\n",
    "import numpy as np\n",
    "import pylab as pl\n",
    "import json\n",
    "import os\n",
    "%pylab inline\n"
   ]
  },
  {
   "cell_type": "markdown",
   "metadata": {},
   "source": [
    "## Part 1 of Assignment 3\n",
    "\n",
    "### what if we used the values for where the former inmate was or was not \"Convicted of a felony\" (row 10) in the Recidivism (Years 1-3)?\n",
    "\n",
    "### Null hypothesis?\n",
    "\n",
    "#### Idea: Inmates participating in the hard to employ program who have been convicted of a felony are less likely to relapse into criminal behaviour (i.e., recidivism)\n",
    "\n",
    "#### Null Hypothesis:  The percent of former prisoners convicted of a felony who relapse into crimininal behavior (i.e., recidivism) within 1 - 3 years after release is the same or higher for candidates who participated in the program as for the control group, significance level p = 0.05 (P1>= P0)\n",
    "\n",
    "#### Alternative Hypothesis:  Ther percent of former prisoners convicted of a felony who relapse into criminal behavior (i.e, recidivism) within 1 - 3 years after relase is lower for candidates who participated in the program as for the control level, significance level  p = 0.05 (P1 < P0)\n",
    "\n",
    "#### H0: P0 - P1 <= 0\n",
    "\n",
    "#### H1: P0 - P1 > 0\n",
    "\n",
    "#### α = 0.05\n",
    "\n",
    "#### P0: 0.117\n",
    "#### P1: 0.010\n"
   ]
  },
  {
   "cell_type": "code",
   "execution_count": 5,
   "metadata": {
    "collapsed": false
   },
   "outputs": [
    {
     "name": "stdout",
     "output_type": "stream",
     "text": [
      "We must assess the statistical significant\n"
     ]
    }
   ],
   "source": [
    "alpha = 0.05\n",
    "p_0 = 11.7 * 0.01 # 11.7% of control group members convicted of a felony relapse into criminal behavior within 1-3 yrs\n",
    "p_1 = 10 *0.01    # 10.0% of program participants convicted of a felony relapse into criminal behavior within 1-3 yrs\n",
    "\n",
    "if p_0 - p_1 <= 0:\n",
    "    print (\"The Null Holds\")   #Done!\n",
    "else:\n",
    "    print (\"We must assess the statistical significant\")\n",
    "    \n",
    "n_0 = 409  # Control group sample size\n",
    "n_1 = 568  # Program group sample size\n",
    "\n",
    "p_0num = p_0 * n_0    # control group count (control group % * program group sample size)\n",
    "p_1num = p_1 * n_1    # program group count (program group & * program group sample size)\n"
   ]
  },
  {
   "cell_type": "code",
   "execution_count": 6,
   "metadata": {
    "collapsed": false
   },
   "outputs": [
    {
     "name": "stdout",
     "output_type": "stream",
     "text": [
      "0.107116683726\n"
     ]
    }
   ],
   "source": [
    "# Define Sample Proportion\n",
    "\n",
    "Samp_Prop = (p_0 * n_0 + p_1 * n_1) / (n_1 + n_0)\n",
    "print (Samp_Prop)"
   ]
  },
  {
   "cell_type": "code",
   "execution_count": 12,
   "metadata": {
    "collapsed": true
   },
   "outputs": [],
   "source": [
    "# Professor provided functions to calculate standard error and p value\n",
    "\n",
    "p = lambda p0,p1,n0,n1: (p0 * n0 + p1 * n1) / (n0 + n1)\n",
    "\n",
    "stand_error = lambda p, n0, n1: np.sqrt(p * (1-p)* (1.0 / n0 + 1.0/n1))"
   ]
  },
  {
   "cell_type": "code",
   "execution_count": 13,
   "metadata": {
    "collapsed": false
   },
   "outputs": [
    {
     "name": "stdout",
     "output_type": "stream",
     "text": [
      "-0.84764020522\n"
     ]
    }
   ],
   "source": [
    "# Professor provided z-score function\n",
    "z_score = lambda p0, p1, s: (p0 - p1) / s\n",
    "z_2y = z_score(p_1,p_0, stand_error(p(p_0,p_1,n_0,n_1), n_0, n_1))\n",
    "print (z_2y)"
   ]
  },
  {
   "cell_type": "code",
   "execution_count": 14,
   "metadata": {
    "collapsed": false
   },
   "outputs": [
    {
     "name": "stdout",
     "output_type": "stream",
     "text": [
      "is the p value 0.80 smaller than the critical value 0.05?\n",
      "NO!\n",
      "the Null hypothesis is not rejected\n"
     ]
    }
   ],
   "source": [
    "'''\n",
    "z-Value of -0.8, as calculated above, at a 0.05 significance level, yields an area to the left of the z-score of \n",
    ".19766, pursant to the table data provided at: http://math.arizona.edu/~rsims/ma464/standardnormaltable.pdf \n",
    "\n",
    "'''\n",
    "p_2y = 1 - 0.19766\n",
    "\n",
    "# Professor provided function:\n",
    "\n",
    "def report_result(p,a):\n",
    "    print ('is the p value ' + \n",
    "           '{0:.2f} smaller than the critical value {1:.2f}?'.format(p,a))\n",
    "    if p < a:\n",
    "        print (\"YES!\")\n",
    "    else: \n",
    "        print (\"NO!\")\n",
    "    \n",
    "    print ('the Null hypothesis is {}'.format(\\\n",
    "                            'rejected' if p < a  else 'not rejected') )\n",
    "\n",
    "report_result(p_2y, alpha)\n",
    "    \n"
   ]
  },
  {
   "cell_type": "markdown",
   "metadata": {},
   "source": [
    "## Part 2 of Assignment 3\n",
    "\n",
    "### lets see what the chi sq statistics says about the conviction for fellonies"
   ]
  },
  {
   "cell_type": "code",
   "execution_count": 19,
   "metadata": {
    "collapsed": false
   },
   "outputs": [],
   "source": [
    "# Professor provided Chi Square Evaluation Function\n",
    "\n",
    "def evalChisq(values):\n",
    "    values = np.array(values)\n",
    "    E = np.empty_like(values)\n",
    "    for j in range(len(values[0])):\n",
    "        for i in range(2):\n",
    "            \n",
    "            E[i][j] = ((values[i,:].sum() * values[:,j].sum()) / \n",
    "                        (values).sum())\n",
    "    return ((values - E)**2 / E).sum()"
   ]
  },
  {
   "cell_type": "markdown",
   "metadata": {},
   "source": [
    "# Contigency Table\n",
    "\n",
    "<table>\n",
    "  <thead>\n",
    "    <tr>\n",
    "      <th>Convicted of a Felony</th>\n",
    "      <th>Yes</th>\n",
    "      <th>No</th>\n",
    "      <th>Total</th>\n",
    "    </tr>\n",
    "  </thead>\n",
    "  <tbody>\n",
    "    <tr>\n",
    "      <td>Test Sample</td>\n",
    "      <td>0.10 x 568</td>\n",
    "      <td>0.9 x 568</td>\n",
    "      <td>568</td>\n",
    "    </tr>\n",
    "    <tr>\n",
    "      <td>Control Sample</td>\n",
    "      <td>0.117 x 409</td>\n",
    "      <td>0.883 x 409</td>\n",
    "      <td>409</td>\n",
    "    </tr>\n",
    "    <tr>\n",
    "      <td>Total</td>\n",
    "      <td>104.653</td>\n",
    "      <td>872.347</td>\n",
    "      <td>977</td>\n",
    "    </tr>\n",
    "    \n",
    "  </tbody>\n",
    "</table>"
   ]
  },
  {
   "cell_type": "code",
   "execution_count": 38,
   "metadata": {
    "collapsed": false
   },
   "outputs": [
    {
     "name": "stdout",
     "output_type": "stream",
     "text": [
      "0.718493917505\n"
     ]
    }
   ],
   "source": [
    "sample_Values = np.array([[0.10*568, 0.9*568],[409*0.117, 409*0.883]])\n",
    "chi_stat = evalChisq(sample_Values)\n",
    "print (chi_stat)"
   ]
  },
  {
   "cell_type": "code",
   "execution_count": 42,
   "metadata": {
    "collapsed": false
   },
   "outputs": [
    {
     "name": "stdout",
     "output_type": "stream",
     "text": [
      "Ss the chi square statistic 0.72 smaller than the probability value 3.84?\n",
      "Yes - the result is not significant at a 0.05 significance.  The Null Hypothesis is not rejected.\n"
     ]
    }
   ],
   "source": [
    "chi_prob = 3.84  # Probability at 1 degree of freedom and a 0.05 significance level \n",
    "\n",
    "def report_result2(stat,prob):\n",
    "    print ('Ss the chi square statistic ' + \n",
    "           '{0:.2f} smaller than the probability value {1:.2f}?'.format(stat,prob))\n",
    "    if stat < prob:\n",
    "        print (\"Yes - the result is not significant at a 0.05 significance.  The Null Hypothesis is not rejected.\")\n",
    "    else: \n",
    "        print (\"No - the result is significant at a 0.05 significance.  The Null Hypothesis is rejected\")\n",
    "    \n",
    "report_result2(chi_stat, chi_prob)"
   ]
  },
  {
   "cell_type": "code",
   "execution_count": null,
   "metadata": {
    "collapsed": true
   },
   "outputs": [],
   "source": []
  }
 ],
 "metadata": {
  "kernelspec": {
   "display_name": "PUI2016_Python2",
   "language": "python",
   "name": "pui2016_python2"
  },
  "language_info": {
   "codemirror_mode": {
    "name": "ipython",
    "version": 2
   },
   "file_extension": ".py",
   "mimetype": "text/x-python",
   "name": "python",
   "nbconvert_exporter": "python",
   "pygments_lexer": "ipython2",
   "version": "2.7.12"
  }
 },
 "nbformat": 4,
 "nbformat_minor": 0
}
