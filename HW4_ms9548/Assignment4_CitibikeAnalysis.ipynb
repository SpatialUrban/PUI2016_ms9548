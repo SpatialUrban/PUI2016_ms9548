{
 "cells": [
  {
   "cell_type": "markdown",
   "metadata": {},
   "source": [
    "# Assignment 4:\n",
    "    test if the distribution of ages is the same for \n",
    "    \n",
    "    1) male and female riders\n",
    "    \n",
    "    2) day and night riders\n",
    "    \n",
    "    use 3 tests: KS, Pearson's, Spearman's. \n",
    "    \n",
    "    For the KS do the test with the entire dataset and with a subset 200 times smaller\n",
    "    \n",
    "    Choose a significant threshold for the whole eercise. \n",
    "    \n",
    "## 0.05\n",
    "    \n",
    "    For each test phrase the Null Hypothesis in words.   \n",
    "\n",
    "##  Idea:  Proportionally more men use citibike than women (P0 > P1)\n",
    "##  Null Hypothesis:  Women use citibike as much as or more than men (H0: P1 - P0 <= 0)\n",
    "##  Alt Hypothesis:  Men use citibike more than women (H1: P0 - P1 > 0)\n",
    "    \n",
    "    Describe the return of the scipy function you use in each case.\n",
    "    \n",
    "    State the result in terms of rejection of the Null."
   ]
  },
  {
   "cell_type": "code",
   "execution_count": 22,
   "metadata": {
    "collapsed": false
   },
   "outputs": [
    {
     "name": "stdout",
     "output_type": "stream",
     "text": [
      "Populating the interactive namespace from numpy and matplotlib\n",
      "  % Total    % Received % Xferd  Average Speed   Time    Time     Time  Current\n",
      "                                 Dload  Upload   Total   Spent    Left  Speed\n",
      "100 21.8M  100 21.8M    0     0  10.1M      0  0:00:02  0:00:02 --:--:-- 11.1M\n"
     ]
    }
   ],
   "source": [
    "from __future__  import print_function, division\n",
    "import pylab as pl\n",
    "import pandas as pd\n",
    "import numpy as np\n",
    "import os\n",
    "import json\n",
    "import zipfile\n",
    "%pylab inline\n",
    "\n",
    "# IMPORT DATA (AVAILABLE TO EVERY USER) - June 2015\n",
    "\n",
    "datestring = '201506'\n",
    "\n",
    "!curl -O \"https://s3.amazonaws.com/tripdata/{datestring}-citibike-tripdata.zip\"\n",
    "\n",
    "zf_June15 = zipfile.ZipFile(datestring1+'-citibike-tripdata.zip')\n",
    "df_June15 = pd.read_csv(zf_June15.open(datestring1+'-citibike-tripdata.csv'))\n",
    "\n",
    "# Note:  Originally I downloaded the July 2015 data as well, and appended it to the June 2015 data via the\n",
    "# append method.  However, when I tried to run the \"age by gender\" code, I was getting a duplicate error\n",
    "# that I couldn't solve.  So I just proceeded with the June 2015 data.\n"
   ]
  },
  {
   "cell_type": "code",
   "execution_count": 23,
   "metadata": {
    "collapsed": false
   },
   "outputs": [],
   "source": [
    "# Convert 'starttime' column to readable date format\n",
    "df_June15['date'] = pd.to_datetime(df_June15['starttime'])   "
   ]
  },
  {
   "cell_type": "code",
   "execution_count": 24,
   "metadata": {
    "collapsed": false
   },
   "outputs": [
    {
     "data": {
      "text/html": [
       "<div>\n",
       "<table border=\"1\" class=\"dataframe\">\n",
       "  <thead>\n",
       "    <tr style=\"text-align: right;\">\n",
       "      <th></th>\n",
       "      <th>tripduration</th>\n",
       "      <th>starttime</th>\n",
       "      <th>stoptime</th>\n",
       "      <th>start station id</th>\n",
       "      <th>start station name</th>\n",
       "      <th>start station latitude</th>\n",
       "      <th>start station longitude</th>\n",
       "      <th>end station id</th>\n",
       "      <th>end station name</th>\n",
       "      <th>end station latitude</th>\n",
       "      <th>end station longitude</th>\n",
       "      <th>bikeid</th>\n",
       "      <th>usertype</th>\n",
       "      <th>birth year</th>\n",
       "      <th>gender</th>\n",
       "      <th>date</th>\n",
       "    </tr>\n",
       "  </thead>\n",
       "  <tbody>\n",
       "    <tr>\n",
       "      <th>0</th>\n",
       "      <td>1338</td>\n",
       "      <td>6/1/2015 0:00</td>\n",
       "      <td>6/1/2015 0:22</td>\n",
       "      <td>128</td>\n",
       "      <td>MacDougal St &amp; Prince St</td>\n",
       "      <td>40.727103</td>\n",
       "      <td>-74.002971</td>\n",
       "      <td>2021</td>\n",
       "      <td>W 45 St &amp; 8 Ave</td>\n",
       "      <td>40.759291</td>\n",
       "      <td>-73.988597</td>\n",
       "      <td>20721</td>\n",
       "      <td>Subscriber</td>\n",
       "      <td>1984.0</td>\n",
       "      <td>1</td>\n",
       "      <td>2015-06-01 00:00:00</td>\n",
       "    </tr>\n",
       "    <tr>\n",
       "      <th>1</th>\n",
       "      <td>290</td>\n",
       "      <td>6/1/2015 0:00</td>\n",
       "      <td>6/1/2015 0:05</td>\n",
       "      <td>438</td>\n",
       "      <td>St Marks Pl &amp; 1 Ave</td>\n",
       "      <td>40.727791</td>\n",
       "      <td>-73.985649</td>\n",
       "      <td>312</td>\n",
       "      <td>Allen St &amp; E Houston St</td>\n",
       "      <td>40.722055</td>\n",
       "      <td>-73.989111</td>\n",
       "      <td>21606</td>\n",
       "      <td>Subscriber</td>\n",
       "      <td>1997.0</td>\n",
       "      <td>1</td>\n",
       "      <td>2015-06-01 00:00:00</td>\n",
       "    </tr>\n",
       "    <tr>\n",
       "      <th>2</th>\n",
       "      <td>634</td>\n",
       "      <td>6/1/2015 0:01</td>\n",
       "      <td>6/1/2015 0:11</td>\n",
       "      <td>383</td>\n",
       "      <td>Greenwich Ave &amp; Charles St</td>\n",
       "      <td>40.735238</td>\n",
       "      <td>-74.000271</td>\n",
       "      <td>388</td>\n",
       "      <td>W 26 St &amp; 10 Ave</td>\n",
       "      <td>40.749718</td>\n",
       "      <td>-74.002950</td>\n",
       "      <td>16595</td>\n",
       "      <td>Subscriber</td>\n",
       "      <td>1993.0</td>\n",
       "      <td>1</td>\n",
       "      <td>2015-06-01 00:01:00</td>\n",
       "    </tr>\n",
       "    <tr>\n",
       "      <th>3</th>\n",
       "      <td>159</td>\n",
       "      <td>6/1/2015 0:01</td>\n",
       "      <td>6/1/2015 0:04</td>\n",
       "      <td>361</td>\n",
       "      <td>Allen St &amp; Hester St</td>\n",
       "      <td>40.716059</td>\n",
       "      <td>-73.991908</td>\n",
       "      <td>531</td>\n",
       "      <td>Forsyth St &amp; Broome St</td>\n",
       "      <td>40.718939</td>\n",
       "      <td>-73.992663</td>\n",
       "      <td>16949</td>\n",
       "      <td>Subscriber</td>\n",
       "      <td>1981.0</td>\n",
       "      <td>1</td>\n",
       "      <td>2015-06-01 00:01:00</td>\n",
       "    </tr>\n",
       "    <tr>\n",
       "      <th>4</th>\n",
       "      <td>1233</td>\n",
       "      <td>6/1/2015 0:02</td>\n",
       "      <td>6/1/2015 0:22</td>\n",
       "      <td>382</td>\n",
       "      <td>University Pl &amp; E 14 St</td>\n",
       "      <td>40.734927</td>\n",
       "      <td>-73.992005</td>\n",
       "      <td>532</td>\n",
       "      <td>S 5 Pl &amp; S 4 St</td>\n",
       "      <td>40.710451</td>\n",
       "      <td>-73.960876</td>\n",
       "      <td>17028</td>\n",
       "      <td>Customer</td>\n",
       "      <td>NaN</td>\n",
       "      <td>0</td>\n",
       "      <td>2015-06-01 00:02:00</td>\n",
       "    </tr>\n",
       "    <tr>\n",
       "      <th>5</th>\n",
       "      <td>690</td>\n",
       "      <td>6/1/2015 0:03</td>\n",
       "      <td>6/1/2015 0:15</td>\n",
       "      <td>284</td>\n",
       "      <td>Greenwich Ave &amp; 8 Ave</td>\n",
       "      <td>40.739017</td>\n",
       "      <td>-74.002638</td>\n",
       "      <td>410</td>\n",
       "      <td>Suffolk St &amp; Stanton St</td>\n",
       "      <td>40.720664</td>\n",
       "      <td>-73.985180</td>\n",
       "      <td>20857</td>\n",
       "      <td>Subscriber</td>\n",
       "      <td>1976.0</td>\n",
       "      <td>1</td>\n",
       "      <td>2015-06-01 00:03:00</td>\n",
       "    </tr>\n",
       "    <tr>\n",
       "      <th>6</th>\n",
       "      <td>766</td>\n",
       "      <td>6/1/2015 0:04</td>\n",
       "      <td>6/1/2015 0:17</td>\n",
       "      <td>346</td>\n",
       "      <td>Bank St &amp; Hudson St</td>\n",
       "      <td>40.736529</td>\n",
       "      <td>-74.006180</td>\n",
       "      <td>2003</td>\n",
       "      <td>1 Ave &amp; E 18 St</td>\n",
       "      <td>40.733812</td>\n",
       "      <td>-73.980544</td>\n",
       "      <td>15978</td>\n",
       "      <td>Subscriber</td>\n",
       "      <td>1976.0</td>\n",
       "      <td>1</td>\n",
       "      <td>2015-06-01 00:04:00</td>\n",
       "    </tr>\n",
       "    <tr>\n",
       "      <th>7</th>\n",
       "      <td>1160</td>\n",
       "      <td>6/1/2015 0:06</td>\n",
       "      <td>6/1/2015 0:25</td>\n",
       "      <td>512</td>\n",
       "      <td>W 29 St &amp; 9 Ave</td>\n",
       "      <td>40.750073</td>\n",
       "      <td>-73.998393</td>\n",
       "      <td>445</td>\n",
       "      <td>E 10 St &amp; Avenue A</td>\n",
       "      <td>40.727408</td>\n",
       "      <td>-73.981420</td>\n",
       "      <td>17306</td>\n",
       "      <td>Subscriber</td>\n",
       "      <td>1962.0</td>\n",
       "      <td>2</td>\n",
       "      <td>2015-06-01 00:06:00</td>\n",
       "    </tr>\n",
       "    <tr>\n",
       "      <th>8</th>\n",
       "      <td>550</td>\n",
       "      <td>6/1/2015 0:07</td>\n",
       "      <td>6/1/2015 0:16</td>\n",
       "      <td>525</td>\n",
       "      <td>W 34 St &amp; 11 Ave</td>\n",
       "      <td>40.755942</td>\n",
       "      <td>-74.002116</td>\n",
       "      <td>447</td>\n",
       "      <td>8 Ave &amp; W 52 St</td>\n",
       "      <td>40.763707</td>\n",
       "      <td>-73.985162</td>\n",
       "      <td>18392</td>\n",
       "      <td>Subscriber</td>\n",
       "      <td>1973.0</td>\n",
       "      <td>1</td>\n",
       "      <td>2015-06-01 00:07:00</td>\n",
       "    </tr>\n",
       "    <tr>\n",
       "      <th>9</th>\n",
       "      <td>545</td>\n",
       "      <td>6/1/2015 0:08</td>\n",
       "      <td>6/1/2015 0:17</td>\n",
       "      <td>403</td>\n",
       "      <td>E 2 St &amp; 2 Ave</td>\n",
       "      <td>40.725029</td>\n",
       "      <td>-73.990697</td>\n",
       "      <td>439</td>\n",
       "      <td>E 4 St &amp; 2 Ave</td>\n",
       "      <td>40.726281</td>\n",
       "      <td>-73.989780</td>\n",
       "      <td>16300</td>\n",
       "      <td>Subscriber</td>\n",
       "      <td>1958.0</td>\n",
       "      <td>1</td>\n",
       "      <td>2015-06-01 00:08:00</td>\n",
       "    </tr>\n",
       "  </tbody>\n",
       "</table>\n",
       "</div>"
      ],
      "text/plain": [
       "   tripduration      starttime       stoptime  start station id  \\\n",
       "0          1338  6/1/2015 0:00  6/1/2015 0:22               128   \n",
       "1           290  6/1/2015 0:00  6/1/2015 0:05               438   \n",
       "2           634  6/1/2015 0:01  6/1/2015 0:11               383   \n",
       "3           159  6/1/2015 0:01  6/1/2015 0:04               361   \n",
       "4          1233  6/1/2015 0:02  6/1/2015 0:22               382   \n",
       "5           690  6/1/2015 0:03  6/1/2015 0:15               284   \n",
       "6           766  6/1/2015 0:04  6/1/2015 0:17               346   \n",
       "7          1160  6/1/2015 0:06  6/1/2015 0:25               512   \n",
       "8           550  6/1/2015 0:07  6/1/2015 0:16               525   \n",
       "9           545  6/1/2015 0:08  6/1/2015 0:17               403   \n",
       "\n",
       "           start station name  start station latitude  \\\n",
       "0    MacDougal St & Prince St               40.727103   \n",
       "1         St Marks Pl & 1 Ave               40.727791   \n",
       "2  Greenwich Ave & Charles St               40.735238   \n",
       "3        Allen St & Hester St               40.716059   \n",
       "4     University Pl & E 14 St               40.734927   \n",
       "5       Greenwich Ave & 8 Ave               40.739017   \n",
       "6         Bank St & Hudson St               40.736529   \n",
       "7             W 29 St & 9 Ave               40.750073   \n",
       "8            W 34 St & 11 Ave               40.755942   \n",
       "9              E 2 St & 2 Ave               40.725029   \n",
       "\n",
       "   start station longitude  end station id         end station name  \\\n",
       "0               -74.002971            2021          W 45 St & 8 Ave   \n",
       "1               -73.985649             312  Allen St & E Houston St   \n",
       "2               -74.000271             388         W 26 St & 10 Ave   \n",
       "3               -73.991908             531   Forsyth St & Broome St   \n",
       "4               -73.992005             532          S 5 Pl & S 4 St   \n",
       "5               -74.002638             410  Suffolk St & Stanton St   \n",
       "6               -74.006180            2003          1 Ave & E 18 St   \n",
       "7               -73.998393             445       E 10 St & Avenue A   \n",
       "8               -74.002116             447          8 Ave & W 52 St   \n",
       "9               -73.990697             439           E 4 St & 2 Ave   \n",
       "\n",
       "   end station latitude  end station longitude  bikeid    usertype  \\\n",
       "0             40.759291             -73.988597   20721  Subscriber   \n",
       "1             40.722055             -73.989111   21606  Subscriber   \n",
       "2             40.749718             -74.002950   16595  Subscriber   \n",
       "3             40.718939             -73.992663   16949  Subscriber   \n",
       "4             40.710451             -73.960876   17028    Customer   \n",
       "5             40.720664             -73.985180   20857  Subscriber   \n",
       "6             40.733812             -73.980544   15978  Subscriber   \n",
       "7             40.727408             -73.981420   17306  Subscriber   \n",
       "8             40.763707             -73.985162   18392  Subscriber   \n",
       "9             40.726281             -73.989780   16300  Subscriber   \n",
       "\n",
       "   birth year  gender                date  \n",
       "0      1984.0       1 2015-06-01 00:00:00  \n",
       "1      1997.0       1 2015-06-01 00:00:00  \n",
       "2      1993.0       1 2015-06-01 00:01:00  \n",
       "3      1981.0       1 2015-06-01 00:01:00  \n",
       "4         NaN       0 2015-06-01 00:02:00  \n",
       "5      1976.0       1 2015-06-01 00:03:00  \n",
       "6      1976.0       1 2015-06-01 00:04:00  \n",
       "7      1962.0       2 2015-06-01 00:06:00  \n",
       "8      1973.0       1 2015-06-01 00:07:00  \n",
       "9      1958.0       1 2015-06-01 00:08:00  "
      ]
     },
     "execution_count": 24,
     "metadata": {},
     "output_type": "execute_result"
    }
   ],
   "source": [
    "# Render Top 10 Rows of Data Frame\n",
    "df_June15.head(10)"
   ]
  },
  {
   "cell_type": "code",
   "execution_count": 26,
   "metadata": {
    "collapsed": false
   },
   "outputs": [],
   "source": [
    "# Get age by gender - Professor Provided Code\n",
    "\n",
    "df_June15['ageM'] = 2016 - df_June15['birth year'][(df_June15['usertype'] == 'Subscriber') & (df_June15['gender'] == 1)]\n",
    "df_June15['ageF'] = 2016 - df_June15['birth year'][(df_June15['usertype'] == 'Subscriber') & (df_June15['gender'] == 2)]"
   ]
  },
  {
   "cell_type": "code",
   "execution_count": 27,
   "metadata": {
    "collapsed": false
   },
   "outputs": [
    {
     "name": "stderr",
     "output_type": "stream",
     "text": [
      "/opt/rh/anaconda/root/envs/PUI2016_Python2/lib/python2.7/site-packages/numpy/lib/function_base.py:3834: RuntimeWarning: Invalid value encountered in percentile\n",
      "  RuntimeWarning)\n"
     ]
    },
    {
     "data": {
      "text/html": [
       "<div>\n",
       "<table border=\"1\" class=\"dataframe\">\n",
       "  <thead>\n",
       "    <tr style=\"text-align: right;\">\n",
       "      <th></th>\n",
       "      <th>tripduration</th>\n",
       "      <th>start station id</th>\n",
       "      <th>start station latitude</th>\n",
       "      <th>start station longitude</th>\n",
       "      <th>end station id</th>\n",
       "      <th>end station latitude</th>\n",
       "      <th>end station longitude</th>\n",
       "      <th>bikeid</th>\n",
       "      <th>birth year</th>\n",
       "      <th>gender</th>\n",
       "      <th>ageM</th>\n",
       "      <th>ageF</th>\n",
       "    </tr>\n",
       "  </thead>\n",
       "  <tbody>\n",
       "    <tr>\n",
       "      <th>count</th>\n",
       "      <td>9.412190e+05</td>\n",
       "      <td>941219.000000</td>\n",
       "      <td>941219.000000</td>\n",
       "      <td>941219.000000</td>\n",
       "      <td>941219.000000</td>\n",
       "      <td>941219.000000</td>\n",
       "      <td>941219.000000</td>\n",
       "      <td>941219.000000</td>\n",
       "      <td>810827.000000</td>\n",
       "      <td>941219.000000</td>\n",
       "      <td>621580.000000</td>\n",
       "      <td>188655.000000</td>\n",
       "    </tr>\n",
       "    <tr>\n",
       "      <th>mean</th>\n",
       "      <td>9.046028e+02</td>\n",
       "      <td>459.987285</td>\n",
       "      <td>40.734750</td>\n",
       "      <td>-73.991312</td>\n",
       "      <td>458.256856</td>\n",
       "      <td>40.734420</td>\n",
       "      <td>-73.991443</td>\n",
       "      <td>18174.511302</td>\n",
       "      <td>1976.256380</td>\n",
       "      <td>1.061284</td>\n",
       "      <td>40.113612</td>\n",
       "      <td>38.509560</td>\n",
       "    </tr>\n",
       "    <tr>\n",
       "      <th>std</th>\n",
       "      <td>3.446744e+03</td>\n",
       "      <td>384.455415</td>\n",
       "      <td>0.019363</td>\n",
       "      <td>0.012420</td>\n",
       "      <td>383.179189</td>\n",
       "      <td>0.019332</td>\n",
       "      <td>0.012430</td>\n",
       "      <td>2113.307306</td>\n",
       "      <td>11.465324</td>\n",
       "      <td>0.579512</td>\n",
       "      <td>11.483732</td>\n",
       "      <td>11.221308</td>\n",
       "    </tr>\n",
       "    <tr>\n",
       "      <th>min</th>\n",
       "      <td>6.000000e+01</td>\n",
       "      <td>72.000000</td>\n",
       "      <td>40.680342</td>\n",
       "      <td>-74.017134</td>\n",
       "      <td>72.000000</td>\n",
       "      <td>40.680342</td>\n",
       "      <td>-74.017134</td>\n",
       "      <td>14529.000000</td>\n",
       "      <td>1885.000000</td>\n",
       "      <td>0.000000</td>\n",
       "      <td>17.000000</td>\n",
       "      <td>17.000000</td>\n",
       "    </tr>\n",
       "    <tr>\n",
       "      <th>25%</th>\n",
       "      <td>4.010000e+02</td>\n",
       "      <td>306.000000</td>\n",
       "      <td>40.721101</td>\n",
       "      <td>-74.001497</td>\n",
       "      <td>305.000000</td>\n",
       "      <td>40.720828</td>\n",
       "      <td>-74.001547</td>\n",
       "      <td>16370.000000</td>\n",
       "      <td>NaN</td>\n",
       "      <td>1.000000</td>\n",
       "      <td>NaN</td>\n",
       "      <td>NaN</td>\n",
       "    </tr>\n",
       "    <tr>\n",
       "      <th>50%</th>\n",
       "      <td>6.460000e+02</td>\n",
       "      <td>415.000000</td>\n",
       "      <td>40.736494</td>\n",
       "      <td>-73.990985</td>\n",
       "      <td>411.000000</td>\n",
       "      <td>40.736245</td>\n",
       "      <td>-73.990985</td>\n",
       "      <td>18158.000000</td>\n",
       "      <td>NaN</td>\n",
       "      <td>1.000000</td>\n",
       "      <td>NaN</td>\n",
       "      <td>NaN</td>\n",
       "    </tr>\n",
       "    <tr>\n",
       "      <th>75%</th>\n",
       "      <td>1.064000e+03</td>\n",
       "      <td>492.000000</td>\n",
       "      <td>40.750200</td>\n",
       "      <td>-73.982050</td>\n",
       "      <td>490.000000</td>\n",
       "      <td>40.749156</td>\n",
       "      <td>-73.982050</td>\n",
       "      <td>19944.000000</td>\n",
       "      <td>NaN</td>\n",
       "      <td>1.000000</td>\n",
       "      <td>NaN</td>\n",
       "      <td>NaN</td>\n",
       "    </tr>\n",
       "    <tr>\n",
       "      <th>max</th>\n",
       "      <td>1.691873e+06</td>\n",
       "      <td>3002.000000</td>\n",
       "      <td>40.771522</td>\n",
       "      <td>-73.950048</td>\n",
       "      <td>3002.000000</td>\n",
       "      <td>40.771522</td>\n",
       "      <td>-73.950048</td>\n",
       "      <td>22364.000000</td>\n",
       "      <td>1999.000000</td>\n",
       "      <td>2.000000</td>\n",
       "      <td>131.000000</td>\n",
       "      <td>115.000000</td>\n",
       "    </tr>\n",
       "  </tbody>\n",
       "</table>\n",
       "</div>"
      ],
      "text/plain": [
       "       tripduration  start station id  start station latitude  \\\n",
       "count  9.412190e+05     941219.000000           941219.000000   \n",
       "mean   9.046028e+02        459.987285               40.734750   \n",
       "std    3.446744e+03        384.455415                0.019363   \n",
       "min    6.000000e+01         72.000000               40.680342   \n",
       "25%    4.010000e+02        306.000000               40.721101   \n",
       "50%    6.460000e+02        415.000000               40.736494   \n",
       "75%    1.064000e+03        492.000000               40.750200   \n",
       "max    1.691873e+06       3002.000000               40.771522   \n",
       "\n",
       "       start station longitude  end station id  end station latitude  \\\n",
       "count            941219.000000   941219.000000         941219.000000   \n",
       "mean                -73.991312      458.256856             40.734420   \n",
       "std                   0.012420      383.179189              0.019332   \n",
       "min                 -74.017134       72.000000             40.680342   \n",
       "25%                 -74.001497      305.000000             40.720828   \n",
       "50%                 -73.990985      411.000000             40.736245   \n",
       "75%                 -73.982050      490.000000             40.749156   \n",
       "max                 -73.950048     3002.000000             40.771522   \n",
       "\n",
       "       end station longitude         bikeid     birth year         gender  \\\n",
       "count          941219.000000  941219.000000  810827.000000  941219.000000   \n",
       "mean              -73.991443   18174.511302    1976.256380       1.061284   \n",
       "std                 0.012430    2113.307306      11.465324       0.579512   \n",
       "min               -74.017134   14529.000000    1885.000000       0.000000   \n",
       "25%               -74.001547   16370.000000            NaN       1.000000   \n",
       "50%               -73.990985   18158.000000            NaN       1.000000   \n",
       "75%               -73.982050   19944.000000            NaN       1.000000   \n",
       "max               -73.950048   22364.000000    1999.000000       2.000000   \n",
       "\n",
       "                ageM           ageF  \n",
       "count  621580.000000  188655.000000  \n",
       "mean       40.113612      38.509560  \n",
       "std        11.483732      11.221308  \n",
       "min        17.000000      17.000000  \n",
       "25%              NaN            NaN  \n",
       "50%              NaN            NaN  \n",
       "75%              NaN            NaN  \n",
       "max       131.000000     115.000000  "
      ]
     },
     "execution_count": 27,
     "metadata": {},
     "output_type": "execute_result"
    }
   ],
   "source": [
    "# Description Table\n",
    "\n",
    "df_June15.describe()"
   ]
  },
  {
   "cell_type": "code",
   "execution_count": 28,
   "metadata": {
    "collapsed": true
   },
   "outputs": [],
   "source": [
    "# Drop NaN Values - Professor Provided Code\n",
    "\n",
    "df_June15['ageM'].dropna(inplace= True)\n",
    "df_June15['ageF'].dropna(inplace= True)"
   ]
  },
  {
   "cell_type": "code",
   "execution_count": 29,
   "metadata": {
    "collapsed": false
   },
   "outputs": [
    {
     "data": {
      "text/plain": [
       "<matplotlib.text.Text at 0x7f81ec732c10>"
      ]
     },
     "execution_count": 29,
     "metadata": {},
     "output_type": "execute_result"
    },
    {
     "data": {
      "image/png": "[encoded data removed]",
      "text/plain": [
       "<matplotlib.figure.Figure at 0x7f81ec8bc110>"
      ]
     },
     "metadata": {},
     "output_type": "display_data"
    },
    {
     "data": {
      "image/png": "[encoded data removed]",
      "text/plain": [
       "<matplotlib.figure.Figure at 0x7f81ec8bc150>"
      ]
     },
     "metadata": {},
     "output_type": "display_data"
    }
   ],
   "source": [
    "# Histograms - Number of Riders by Age Range, Male and Female - Professor Provided Code\n",
    "\n",
    "bins = np.arange(10, 99, 5)\n",
    "axM = df_June15.ageM.groupby(pd.cut(df_June15.ageM, bins)).agg([count_nonzero]).plot(kind='bar', \n",
    "                                                                legend=False)\n",
    "axM.set_title(\"male riders\")\n",
    "axF = df_June15.ageF.groupby(pd.cut(df_June15.ageF, bins)).agg([count_nonzero]).plot(kind='bar',\n",
    "                                                                legend=False)\n",
    "axF.set_title(\"female riders\")"
   ]
  },
  {
   "cell_type": "code",
   "execution_count": 30,
   "metadata": {
    "collapsed": false
   },
   "outputs": [
    {
     "name": "stdout",
     "output_type": "stream",
     "text": [
      "          count_nonzero\n",
      "ageM                   \n",
      "(10, 15]       0.000000\n",
      "(15, 20]       0.000206\n",
      "(20, 25]       0.016503\n",
      "(25, 30]       0.058428\n",
      "(30, 35]       0.076423\n",
      "(35, 40]       0.066680\n",
      "(40, 45]       0.039684\n",
      "(45, 50]       0.017683\n",
      "(50, 55]       0.012263\n",
      "(55, 60]       0.016593\n",
      "(60, 65]       0.008205\n",
      "(65, 70]       0.003076\n",
      "(70, 75]       0.000392\n",
      "(75, 80]       0.000214\n",
      "(80, 85]       0.000017\n",
      "(85, 90]       0.000006\n",
      "(90, 95]       0.000000\n"
     ]
    },
    {
     "data": {
      "text/plain": [
       "<matplotlib.legend.Legend at 0x7f81ec1d1b50>"
      ]
     },
     "execution_count": 30,
     "metadata": {},
     "output_type": "execute_result"
    },
    {
     "data": {
      "image/png": "[encoded data removed]",
      "text/plain": [
       "<matplotlib.figure.Figure at 0x7f81ec8ca150>"
      ]
     },
     "metadata": {},
     "output_type": "display_data"
    }
   ],
   "source": [
    "#print df.ageS, df.ageS.cumsum() - Professor Provided Code\n",
    "\n",
    "csM=df_June15.ageM.groupby(pd.cut(df_June15.ageM, bins)).agg([count_nonzero]).cumsum()\n",
    "\n",
    "csF=df_June15.ageF.groupby(pd.cut(df_June15.ageF, bins)).agg([count_nonzero]).cumsum()\n",
    "\n",
    "print (np.abs(csM / csM.max()-csF / csF.max()))\n",
    "\n",
    "pl.plot(bins[:-1] + 5, csM / csM.max(), label = \"M\")\n",
    "pl.plot(bins[:-1] + 5, csF / csF.max(), label = \"F\")\n",
    "pl.plot(bins[:-1] + 5, np.sqrt(csF / csF.max() - csM / csM.max())**2, 'k-',\n",
    "        label = \"difference\")\n",
    "pl.xlabel(\"Age\")\n",
    "pl.ylabel(\"Normalized Cumulative Number\")\n",
    "pl.legend()"
   ]
  },
  {
   "cell_type": "code",
   "execution_count": 33,
   "metadata": {
    "collapsed": false
   },
   "outputs": [],
   "source": [
    "import scipy.stats  # Professor Provided Code"
   ]
  },
  {
   "cell_type": "code",
   "execution_count": 50,
   "metadata": {
    "collapsed": false
   },
   "outputs": [
    {
     "name": "stdout",
     "output_type": "stream",
     "text": [
      "Ks_2sampResult(statistic=0.10198128989711536, pvalue=0.0)\n"
     ]
    }
   ],
   "source": [
    "ks = scipy.stats.ks_2samp(df_June15.ageM, df_June15.ageF)\n",
    "print (ks)"
   ]
  },
  {
   "cell_type": "markdown",
   "metadata": {},
   "source": [
    "## Analysis\n",
    "\n",
    "### At a significance level of 0.05, the critical KS value is 1.36 (in the table provided in the example text).  The calculated KS statistic is approximate;y 0.102, much lower than the critical value.  Because it is lower than the threshold, we cannot reject the Null Hypothesis."
   ]
  },
  {
   "cell_type": "code",
   "execution_count": 45,
   "metadata": {
    "collapsed": false
   },
   "outputs": [],
   "source": [
    "# Redo Analysis with subset of the data (1 ride of every 200)\n",
    "sub = int(len(df_June15.index)/200)\n",
    "df_reduct = df_June15.sample(sub) # Sample method used to obtain subset of data frame \n",
    "                                  # http://pandas.pydata.org/pandas-docs/stable/generated/pandas.DataFrame.sample.html\n"
   ]
  },
  {
   "cell_type": "code",
   "execution_count": 46,
   "metadata": {
    "collapsed": false
   },
   "outputs": [
    {
     "data": {
      "text/plain": [
       "<matplotlib.text.Text at 0x7f81c01aec50>"
      ]
     },
     "execution_count": 46,
     "metadata": {},
     "output_type": "execute_result"
    },
    {
     "data": {
      "image/png": "[encoded data removed]",
      "text/plain": [
       "<matplotlib.figure.Figure at 0x7f81c48acbd0>"
      ]
     },
     "metadata": {},
     "output_type": "display_data"
    },
    {
     "data": {
      "image/png": "[encoded data removed]",
      "text/plain": [
       "<matplotlib.figure.Figure at 0x7f81c484fbd0>"
      ]
     },
     "metadata": {},
     "output_type": "display_data"
    }
   ],
   "source": [
    "# Histograms of Subset - Number of Riders by Age Range, Male and Female - Professor Provided Code\n",
    "\n",
    "bins = np.arange(10, 99, 5)\n",
    "axM = df_reduct.ageM.groupby(pd.cut(df_reduct.ageM, bins)).agg([count_nonzero]).plot(kind='bar', \n",
    "                                                                legend=False)\n",
    "axM.set_title(\"male riders\")\n",
    "axF = df_reduct.ageF.groupby(pd.cut(df_reduct.ageF, bins)).agg([count_nonzero]).plot(kind='bar',\n",
    "                                                                legend=False)\n",
    "axF.set_title(\"female riders\")"
   ]
  },
  {
   "cell_type": "code",
   "execution_count": 48,
   "metadata": {
    "collapsed": false
   },
   "outputs": [
    {
     "name": "stdout",
     "output_type": "stream",
     "text": [
      "          count_nonzero\n",
      "ageM                   \n",
      "(10, 15]       0.000000\n",
      "(15, 20]       0.004530\n",
      "(20, 25]       0.014669\n",
      "(25, 30]       0.086186\n",
      "(30, 35]       0.076551\n",
      "(35, 40]       0.055912\n",
      "(40, 45]       0.046785\n",
      "(45, 50]       0.012111\n",
      "(50, 55]       0.004822\n",
      "(55, 60]       0.005639\n",
      "(60, 65]       0.006882\n",
      "(65, 70]       0.000580\n",
      "(70, 75]       0.001157\n",
      "(75, 80]       0.000739\n",
      "(80, 85]       0.000000\n",
      "(85, 90]       0.000000\n",
      "(90, 95]       0.000000\n"
     ]
    },
    {
     "data": {
      "text/plain": [
       "<matplotlib.legend.Legend at 0x7f81c0092b50>"
      ]
     },
     "execution_count": 48,
     "metadata": {},
     "output_type": "execute_result"
    },
    {
     "data": {
      "image/png": "[encoded data removed]",
      "text/plain": [
       "<matplotlib.figure.Figure at 0x7f81ec2613d0>"
      ]
     },
     "metadata": {},
     "output_type": "display_data"
    }
   ],
   "source": [
    "#print df.ageS, df.ageS.cumsum() - Professor Provided Code  SUBSET\n",
    "\n",
    "csM=df_reduct.ageM.groupby(pd.cut(df_reduct.ageM, bins)).agg([count_nonzero]).cumsum()\n",
    "\n",
    "csF=df_reduct.ageF.groupby(pd.cut(df_reduct.ageF, bins)).agg([count_nonzero]).cumsum()\n",
    "\n",
    "print (np.abs(csM / csM.max()-csF / csF.max()))\n",
    "\n",
    "pl.plot(bins[:-1] + 5, csM / csM.max(), label = \"M\")\n",
    "pl.plot(bins[:-1] + 5, csF / csF.max(), label = \"F\")\n",
    "pl.plot(bins[:-1] + 5, np.sqrt(csF / csF.max() - csM / csM.max())**2, 'k-',\n",
    "        label = \"difference\")\n",
    "pl.xlabel(\"Age\")\n",
    "pl.ylabel(\"Normalized Cumulative Number\")\n",
    "pl.legend()"
   ]
  },
  {
   "cell_type": "code",
   "execution_count": 52,
   "metadata": {
    "collapsed": false
   },
   "outputs": [
    {
     "name": "stdout",
     "output_type": "stream",
     "text": [
      "Ks_2sampResult(statistic=0.11279034848123944, pvalue=1.7015428032389201e-08)\n"
     ]
    }
   ],
   "source": [
    "# dropping NaN values\n",
    "df_reduct['ageM'].dropna(inplace= True)\n",
    "df_reduct['ageF'].dropna(inplace= True)\n",
    "\n",
    "# KS Test\n",
    "\n",
    "ks_2 = scipy.stats.ks_2samp(df_reduct.ageM, df_reduct.ageF)\n",
    "print (ks_2)"
   ]
  },
  {
   "cell_type": "markdown",
   "metadata": {},
   "source": [
    "## Analysis For Subset Data\n",
    "\n",
    "### At a significance level of 0.05, the critical KS value is 1.36 (in the table provided in the example text).  The calculated KS statistic is approximate;y 0.113, much lower than the critical value.  Because it is lower than the threshold, we cannot reject the Null Hypothesis."
   ]
  },
  {
   "cell_type": "code",
   "execution_count": 73,
   "metadata": {
    "collapsed": false
   },
   "outputs": [
    {
     "name": "stdout",
     "output_type": "stream",
     "text": [
      "The male sample size has been reduced to the female sample size\n"
     ]
    }
   ],
   "source": [
    "# Pearson's Test\n",
    "\n",
    "# Equalize Sample Sizes\n",
    "\n",
    "if len(df_June15['ageF'].index) > len(df_June15['ageM'].index):\n",
    "    f_Reduct = df_June15['ageF'].sample(len(df_June15['ageM'].index))\n",
    "    print (\"The female sample size has been reduced to the male sample size\")\n",
    "\n",
    "else:\n",
    "    m_Reduct = df_June15['ageM'].sample(len(df_June15['ageF'].index))\n",
    "    print (\"The male sample size has been reduced to the female sample size\")\n",
    "\n",
    "\n",
    "\n"
   ]
  },
  {
   "cell_type": "code",
   "execution_count": 75,
   "metadata": {
    "collapsed": false
   },
   "outputs": [
    {
     "name": "stdout",
     "output_type": "stream",
     "text": [
      "(0.99653653757796501, 0.0)\n"
     ]
    },
    {
     "name": "stderr",
     "output_type": "stream",
     "text": [
      "/opt/rh/anaconda/root/envs/PUI2016_Python2/lib/python2.7/site-packages/ipykernel/__main__.py:8: FutureWarning: sort is deprecated, use sort_values(inplace=True) for INPLACE sorting\n",
      "/opt/rh/anaconda/root/envs/PUI2016_Python2/lib/python2.7/site-packages/ipykernel/__main__.py:9: FutureWarning: sort is deprecated, use sort_values(inplace=True) for INPLACE sorting\n"
     ]
    }
   ],
   "source": [
    "# Sort\n",
    "\n",
    "#df_June15['ageM'].sort('ageM', ascending = 'True')\n",
    "\n",
    "df_Men = m_Reduct.copy()\n",
    "df_Women = df_June15['ageF'].copy()\n",
    "\n",
    "df_Men.sort()\n",
    "df_Women.sort()\n",
    "\n",
    "pc = scipy.stats.pearsonr(df_Men, df_Women)\n",
    "\n",
    "print (pc)"
   ]
  },
  {
   "cell_type": "markdown",
   "metadata": {},
   "source": [
    "## Analysis\n",
    "\n",
    "### The calculated pearson's coefficient is approximately 0.997, indicating a very strong positive relationship between the two variables (a calculated coefficient of 1 indicating the strong possible correlation).  Under this condtion, it would be expected that as one variable increases, the other would too (and as one decreased, the other one would as well).  Regarding the Null Hypothesis, this relationship indicates that the proportional number of male riders would be relatively equal to the proportion of female riders (i.e., P0 = P1), so the Null cannot be rejected using the results of this test.\n",
    "\n",
    "### The p-value indicated the probability of the results of the test being random.  The calculated p-value for this analysis is 0, which states a 0 % chance these results are random."
   ]
  },
  {
   "cell_type": "code",
   "execution_count": 79,
   "metadata": {
    "collapsed": false
   },
   "outputs": [
    {
     "data": {
      "text/plain": [
       "SpearmanrResult(correlation=0.99900064209888695, pvalue=0.0)"
      ]
     },
     "execution_count": 79,
     "metadata": {},
     "output_type": "execute_result"
    }
   ],
   "source": [
    "# Spearman's Test\n",
    "\n",
    "scipy.stats.spearmanr(df_Men, df_Women)   # Formatted data for Pearson's test reused here\n"
   ]
  },
  {
   "cell_type": "markdown",
   "metadata": {},
   "source": [
    "## Analysis \n",
    "\n",
    "### Similar to the pearson's coefficient, the spearmen's coefficient indicates a very high positive correlation (0.999), which indicates that as one variable increases the other would be expected to as well.  Regarding the Null Hypothesis, this relationship indicates that the proportional number of male riders would be relatively equal to the proportion of female riders (i.e., P0 = P1), so the Null cannot be rejected using the results of this test.\n",
    "\n",
    "### The p-value indicated the probability of the results of the test being random.  The calculated p-value for this analysis is 0, which states a 0 % chance these results are random."
   ]
  }
 ],
 "metadata": {
  "kernelspec": {
   "display_name": "PUI2016_Python2",
   "language": "python",
   "name": "pui2016_python2"
  },
  "language_info": {
   "codemirror_mode": {
    "name": "ipython",
    "version": 2
   },
   "file_extension": ".py",
   "mimetype": "text/x-python",
   "name": "python",
   "nbconvert_exporter": "python",
   "pygments_lexer": "ipython2",
   "version": "2.7.12"
  }
 },
 "nbformat": 4,
 "nbformat_minor": 0
}
