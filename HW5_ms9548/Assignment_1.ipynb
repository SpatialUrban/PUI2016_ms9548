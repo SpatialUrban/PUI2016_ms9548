{
 "cells": [
  {
   "cell_type": "markdown",
   "metadata": {},
   "source": [
    "### Assignment 1 - Compare Tests for Goodness of fit (on real data)\n",
    "\n",
    "#### - Two distriubtions used - Normal / Gaussian\n",
    "\n",
    "#### - Two 'goodness of fit' tests used on these distribution, the Kolmogorov-Smirnov (KS) Test and the Anderson Darling"
   ]
  },
  {
   "cell_type": "code",
   "execution_count": 75,
   "metadata": {
    "collapsed": false
   },
   "outputs": [
    {
     "name": "stdout",
     "output_type": "stream",
     "text": [
      "Populating the interactive namespace from numpy and matplotlib\n"
     ]
    },
    {
     "name": "stderr",
     "output_type": "stream",
     "text": [
      "/opt/rh/anaconda/root/envs/PUI2016_Python2/lib/python2.7/site-packages/IPython/core/magics/pylab.py:161: UserWarning: pylab import has clobbered these variables: ['mean', 'std']\n",
      "`%matplotlib` prevents importing * from pylab and numpy\n",
      "  \"\\n`%matplotlib` prevents importing * from pylab and numpy\"\n"
     ]
    },
    {
     "name": "stdout",
     "output_type": "stream",
     "text": [
      "  % Total    % Received % Xferd  Average Speed   Time    Time     Time  Current\n",
      "                                 Dload  Upload   Total   Spent    Left  Speed\n",
      "100 21.8M  100 21.8M    0     0  32.6M      0 --:--:-- --:--:-- --:--:-- 45.4M\n"
     ]
    }
   ],
   "source": [
    "from __future__  import print_function, division\n",
    "import pylab as pl\n",
    "import pandas as pd\n",
    "import numpy as np\n",
    "import os\n",
    "import json\n",
    "import zipfile\n",
    "import scipy.stats\n",
    "%pylab inline\n",
    "\n",
    "# IMPORT DATA (AVAILABLE TO EVERY USER) - June 2015\n",
    "\n",
    "datestring = '201506'\n",
    "\n",
    "!curl -O \"https://s3.amazonaws.com/tripdata/{datestring}-citibike-tripdata.zip\"\n",
    "\n",
    "zf_June15 = zipfile.ZipFile(datestring+'-citibike-tripdata.zip')\n",
    "df_June15 = pd.read_csv(zf_June15.open(datestring+'-citibike-tripdata.csv'))"
   ]
  },
  {
   "cell_type": "code",
   "execution_count": 76,
   "metadata": {
    "collapsed": true
   },
   "outputs": [],
   "source": [
    "# Convert 'starttime' column to readable date format\n",
    "df_June15['date'] = pd.to_datetime(df_June15['starttime'])   "
   ]
  },
  {
   "cell_type": "code",
   "execution_count": 77,
   "metadata": {
    "collapsed": false
   },
   "outputs": [
    {
     "data": {
      "text/html": [
       "<div>\n",
       "<table border=\"1\" class=\"dataframe\">\n",
       "  <thead>\n",
       "    <tr style=\"text-align: right;\">\n",
       "      <th></th>\n",
       "      <th>tripduration</th>\n",
       "      <th>starttime</th>\n",
       "      <th>stoptime</th>\n",
       "      <th>start station id</th>\n",
       "      <th>start station name</th>\n",
       "      <th>start station latitude</th>\n",
       "      <th>start station longitude</th>\n",
       "      <th>end station id</th>\n",
       "      <th>end station name</th>\n",
       "      <th>end station latitude</th>\n",
       "      <th>end station longitude</th>\n",
       "      <th>bikeid</th>\n",
       "      <th>usertype</th>\n",
       "      <th>birth year</th>\n",
       "      <th>gender</th>\n",
       "      <th>date</th>\n",
       "    </tr>\n",
       "  </thead>\n",
       "  <tbody>\n",
       "    <tr>\n",
       "      <th>0</th>\n",
       "      <td>1338</td>\n",
       "      <td>6/1/2015 0:00</td>\n",
       "      <td>6/1/2015 0:22</td>\n",
       "      <td>128</td>\n",
       "      <td>MacDougal St &amp; Prince St</td>\n",
       "      <td>40.727103</td>\n",
       "      <td>-74.002971</td>\n",
       "      <td>2021</td>\n",
       "      <td>W 45 St &amp; 8 Ave</td>\n",
       "      <td>40.759291</td>\n",
       "      <td>-73.988597</td>\n",
       "      <td>20721</td>\n",
       "      <td>Subscriber</td>\n",
       "      <td>1984.0</td>\n",
       "      <td>1</td>\n",
       "      <td>2015-06-01 00:00:00</td>\n",
       "    </tr>\n",
       "    <tr>\n",
       "      <th>1</th>\n",
       "      <td>290</td>\n",
       "      <td>6/1/2015 0:00</td>\n",
       "      <td>6/1/2015 0:05</td>\n",
       "      <td>438</td>\n",
       "      <td>St Marks Pl &amp; 1 Ave</td>\n",
       "      <td>40.727791</td>\n",
       "      <td>-73.985649</td>\n",
       "      <td>312</td>\n",
       "      <td>Allen St &amp; E Houston St</td>\n",
       "      <td>40.722055</td>\n",
       "      <td>-73.989111</td>\n",
       "      <td>21606</td>\n",
       "      <td>Subscriber</td>\n",
       "      <td>1997.0</td>\n",
       "      <td>1</td>\n",
       "      <td>2015-06-01 00:00:00</td>\n",
       "    </tr>\n",
       "    <tr>\n",
       "      <th>2</th>\n",
       "      <td>634</td>\n",
       "      <td>6/1/2015 0:01</td>\n",
       "      <td>6/1/2015 0:11</td>\n",
       "      <td>383</td>\n",
       "      <td>Greenwich Ave &amp; Charles St</td>\n",
       "      <td>40.735238</td>\n",
       "      <td>-74.000271</td>\n",
       "      <td>388</td>\n",
       "      <td>W 26 St &amp; 10 Ave</td>\n",
       "      <td>40.749718</td>\n",
       "      <td>-74.002950</td>\n",
       "      <td>16595</td>\n",
       "      <td>Subscriber</td>\n",
       "      <td>1993.0</td>\n",
       "      <td>1</td>\n",
       "      <td>2015-06-01 00:01:00</td>\n",
       "    </tr>\n",
       "    <tr>\n",
       "      <th>3</th>\n",
       "      <td>159</td>\n",
       "      <td>6/1/2015 0:01</td>\n",
       "      <td>6/1/2015 0:04</td>\n",
       "      <td>361</td>\n",
       "      <td>Allen St &amp; Hester St</td>\n",
       "      <td>40.716059</td>\n",
       "      <td>-73.991908</td>\n",
       "      <td>531</td>\n",
       "      <td>Forsyth St &amp; Broome St</td>\n",
       "      <td>40.718939</td>\n",
       "      <td>-73.992663</td>\n",
       "      <td>16949</td>\n",
       "      <td>Subscriber</td>\n",
       "      <td>1981.0</td>\n",
       "      <td>1</td>\n",
       "      <td>2015-06-01 00:01:00</td>\n",
       "    </tr>\n",
       "    <tr>\n",
       "      <th>4</th>\n",
       "      <td>1233</td>\n",
       "      <td>6/1/2015 0:02</td>\n",
       "      <td>6/1/2015 0:22</td>\n",
       "      <td>382</td>\n",
       "      <td>University Pl &amp; E 14 St</td>\n",
       "      <td>40.734927</td>\n",
       "      <td>-73.992005</td>\n",
       "      <td>532</td>\n",
       "      <td>S 5 Pl &amp; S 4 St</td>\n",
       "      <td>40.710451</td>\n",
       "      <td>-73.960876</td>\n",
       "      <td>17028</td>\n",
       "      <td>Customer</td>\n",
       "      <td>NaN</td>\n",
       "      <td>0</td>\n",
       "      <td>2015-06-01 00:02:00</td>\n",
       "    </tr>\n",
       "    <tr>\n",
       "      <th>5</th>\n",
       "      <td>690</td>\n",
       "      <td>6/1/2015 0:03</td>\n",
       "      <td>6/1/2015 0:15</td>\n",
       "      <td>284</td>\n",
       "      <td>Greenwich Ave &amp; 8 Ave</td>\n",
       "      <td>40.739017</td>\n",
       "      <td>-74.002638</td>\n",
       "      <td>410</td>\n",
       "      <td>Suffolk St &amp; Stanton St</td>\n",
       "      <td>40.720664</td>\n",
       "      <td>-73.985180</td>\n",
       "      <td>20857</td>\n",
       "      <td>Subscriber</td>\n",
       "      <td>1976.0</td>\n",
       "      <td>1</td>\n",
       "      <td>2015-06-01 00:03:00</td>\n",
       "    </tr>\n",
       "    <tr>\n",
       "      <th>6</th>\n",
       "      <td>766</td>\n",
       "      <td>6/1/2015 0:04</td>\n",
       "      <td>6/1/2015 0:17</td>\n",
       "      <td>346</td>\n",
       "      <td>Bank St &amp; Hudson St</td>\n",
       "      <td>40.736529</td>\n",
       "      <td>-74.006180</td>\n",
       "      <td>2003</td>\n",
       "      <td>1 Ave &amp; E 18 St</td>\n",
       "      <td>40.733812</td>\n",
       "      <td>-73.980544</td>\n",
       "      <td>15978</td>\n",
       "      <td>Subscriber</td>\n",
       "      <td>1976.0</td>\n",
       "      <td>1</td>\n",
       "      <td>2015-06-01 00:04:00</td>\n",
       "    </tr>\n",
       "    <tr>\n",
       "      <th>7</th>\n",
       "      <td>1160</td>\n",
       "      <td>6/1/2015 0:06</td>\n",
       "      <td>6/1/2015 0:25</td>\n",
       "      <td>512</td>\n",
       "      <td>W 29 St &amp; 9 Ave</td>\n",
       "      <td>40.750073</td>\n",
       "      <td>-73.998393</td>\n",
       "      <td>445</td>\n",
       "      <td>E 10 St &amp; Avenue A</td>\n",
       "      <td>40.727408</td>\n",
       "      <td>-73.981420</td>\n",
       "      <td>17306</td>\n",
       "      <td>Subscriber</td>\n",
       "      <td>1962.0</td>\n",
       "      <td>2</td>\n",
       "      <td>2015-06-01 00:06:00</td>\n",
       "    </tr>\n",
       "    <tr>\n",
       "      <th>8</th>\n",
       "      <td>550</td>\n",
       "      <td>6/1/2015 0:07</td>\n",
       "      <td>6/1/2015 0:16</td>\n",
       "      <td>525</td>\n",
       "      <td>W 34 St &amp; 11 Ave</td>\n",
       "      <td>40.755942</td>\n",
       "      <td>-74.002116</td>\n",
       "      <td>447</td>\n",
       "      <td>8 Ave &amp; W 52 St</td>\n",
       "      <td>40.763707</td>\n",
       "      <td>-73.985162</td>\n",
       "      <td>18392</td>\n",
       "      <td>Subscriber</td>\n",
       "      <td>1973.0</td>\n",
       "      <td>1</td>\n",
       "      <td>2015-06-01 00:07:00</td>\n",
       "    </tr>\n",
       "    <tr>\n",
       "      <th>9</th>\n",
       "      <td>545</td>\n",
       "      <td>6/1/2015 0:08</td>\n",
       "      <td>6/1/2015 0:17</td>\n",
       "      <td>403</td>\n",
       "      <td>E 2 St &amp; 2 Ave</td>\n",
       "      <td>40.725029</td>\n",
       "      <td>-73.990697</td>\n",
       "      <td>439</td>\n",
       "      <td>E 4 St &amp; 2 Ave</td>\n",
       "      <td>40.726281</td>\n",
       "      <td>-73.989780</td>\n",
       "      <td>16300</td>\n",
       "      <td>Subscriber</td>\n",
       "      <td>1958.0</td>\n",
       "      <td>1</td>\n",
       "      <td>2015-06-01 00:08:00</td>\n",
       "    </tr>\n",
       "  </tbody>\n",
       "</table>\n",
       "</div>"
      ],
      "text/plain": [
       "   tripduration      starttime       stoptime  start station id  \\\n",
       "0          1338  6/1/2015 0:00  6/1/2015 0:22               128   \n",
       "1           290  6/1/2015 0:00  6/1/2015 0:05               438   \n",
       "2           634  6/1/2015 0:01  6/1/2015 0:11               383   \n",
       "3           159  6/1/2015 0:01  6/1/2015 0:04               361   \n",
       "4          1233  6/1/2015 0:02  6/1/2015 0:22               382   \n",
       "5           690  6/1/2015 0:03  6/1/2015 0:15               284   \n",
       "6           766  6/1/2015 0:04  6/1/2015 0:17               346   \n",
       "7          1160  6/1/2015 0:06  6/1/2015 0:25               512   \n",
       "8           550  6/1/2015 0:07  6/1/2015 0:16               525   \n",
       "9           545  6/1/2015 0:08  6/1/2015 0:17               403   \n",
       "\n",
       "           start station name  start station latitude  \\\n",
       "0    MacDougal St & Prince St               40.727103   \n",
       "1         St Marks Pl & 1 Ave               40.727791   \n",
       "2  Greenwich Ave & Charles St               40.735238   \n",
       "3        Allen St & Hester St               40.716059   \n",
       "4     University Pl & E 14 St               40.734927   \n",
       "5       Greenwich Ave & 8 Ave               40.739017   \n",
       "6         Bank St & Hudson St               40.736529   \n",
       "7             W 29 St & 9 Ave               40.750073   \n",
       "8            W 34 St & 11 Ave               40.755942   \n",
       "9              E 2 St & 2 Ave               40.725029   \n",
       "\n",
       "   start station longitude  end station id         end station name  \\\n",
       "0               -74.002971            2021          W 45 St & 8 Ave   \n",
       "1               -73.985649             312  Allen St & E Houston St   \n",
       "2               -74.000271             388         W 26 St & 10 Ave   \n",
       "3               -73.991908             531   Forsyth St & Broome St   \n",
       "4               -73.992005             532          S 5 Pl & S 4 St   \n",
       "5               -74.002638             410  Suffolk St & Stanton St   \n",
       "6               -74.006180            2003          1 Ave & E 18 St   \n",
       "7               -73.998393             445       E 10 St & Avenue A   \n",
       "8               -74.002116             447          8 Ave & W 52 St   \n",
       "9               -73.990697             439           E 4 St & 2 Ave   \n",
       "\n",
       "   end station latitude  end station longitude  bikeid    usertype  \\\n",
       "0             40.759291             -73.988597   20721  Subscriber   \n",
       "1             40.722055             -73.989111   21606  Subscriber   \n",
       "2             40.749718             -74.002950   16595  Subscriber   \n",
       "3             40.718939             -73.992663   16949  Subscriber   \n",
       "4             40.710451             -73.960876   17028    Customer   \n",
       "5             40.720664             -73.985180   20857  Subscriber   \n",
       "6             40.733812             -73.980544   15978  Subscriber   \n",
       "7             40.727408             -73.981420   17306  Subscriber   \n",
       "8             40.763707             -73.985162   18392  Subscriber   \n",
       "9             40.726281             -73.989780   16300  Subscriber   \n",
       "\n",
       "   birth year  gender                date  \n",
       "0      1984.0       1 2015-06-01 00:00:00  \n",
       "1      1997.0       1 2015-06-01 00:00:00  \n",
       "2      1993.0       1 2015-06-01 00:01:00  \n",
       "3      1981.0       1 2015-06-01 00:01:00  \n",
       "4         NaN       0 2015-06-01 00:02:00  \n",
       "5      1976.0       1 2015-06-01 00:03:00  \n",
       "6      1976.0       1 2015-06-01 00:04:00  \n",
       "7      1962.0       2 2015-06-01 00:06:00  \n",
       "8      1973.0       1 2015-06-01 00:07:00  \n",
       "9      1958.0       1 2015-06-01 00:08:00  "
      ]
     },
     "execution_count": 77,
     "metadata": {},
     "output_type": "execute_result"
    }
   ],
   "source": [
    "# Render Top 10 Rows of Data Frame\n",
    "df_June15.head(10)"
   ]
  },
  {
   "cell_type": "code",
   "execution_count": 78,
   "metadata": {
    "collapsed": false
   },
   "outputs": [],
   "source": [
    "# Generate Age of Riders\n",
    "df_June15['Rider_Age'] = 2016 - df_June15['birth year'][(df_June15['usertype'] == 'Subscriber')]"
   ]
  },
  {
   "cell_type": "code",
   "execution_count": 79,
   "metadata": {
    "collapsed": true
   },
   "outputs": [],
   "source": [
    "# Drop NaN values \n",
    "df_June15['Rider_Age'].dropna(inplace= True)"
   ]
  },
  {
   "cell_type": "code",
   "execution_count": 80,
   "metadata": {
    "collapsed": false
   },
   "outputs": [
    {
     "data": {
      "text/plain": [
       "<matplotlib.text.Text at 0x7f83ec8351d0>"
      ]
     },
     "execution_count": 80,
     "metadata": {},
     "output_type": "execute_result"
    },
    {
     "data": {
      "image/png": "[encoded data removed]",
      "text/plain": [
       "<matplotlib.figure.Figure at 0x7f83ec87db10>"
      ]
     },
     "metadata": {},
     "output_type": "display_data"
    }
   ],
   "source": [
    "# Age Distribution Histogram\n",
    "\n",
    "bins = np.arange(10, 99, 5)\n",
    "axM = df_June15.Rider_Age.groupby(pd.cut(df_June15.Rider_Age, bins)).agg([count_nonzero]).plot(kind='bar', \n",
    "                                                                legend=False)\n",
    "axM.set_title(\"CitiBike Rider Age Distribution, 5-Yr Increments\")"
   ]
  },
  {
   "cell_type": "code",
   "execution_count": 81,
   "metadata": {
    "collapsed": false
   },
   "outputs": [],
   "source": [
    "age_Dist = df_June15['Rider_Age']  # Age Distribution"
   ]
  },
  {
   "cell_type": "markdown",
   "metadata": {},
   "source": [
    "### Null Hypothesis (HO):  The data follows a normal / gaussian distribution\n",
    "### Alternative Hypothesis (HA):  The data does not follow a normal / gaussian distribution\n",
    "### Significance Level - 0.05"
   ]
  },
  {
   "cell_type": "code",
   "execution_count": 82,
   "metadata": {
    "collapsed": false
   },
   "outputs": [
    {
     "name": "stdout",
     "output_type": "stream",
     "text": [
      "The KS test statistic is larger than the critical value, the Null Hypothesis is rejected\n"
     ]
    }
   ],
   "source": [
    "# KS Test - Normal Distribution\n",
    "\n",
    "kstest_1 = scipy.stats.kstest(age_Dist,'norm')    \n",
    "kstest_cv1 = 1.36 / np.sqrt(len(age_Dist))     # Critical Value = see notes at the bottom of this cell\n",
    "\n",
    "if kstest_1[0] > kstest_cv1:\n",
    "    print ('The KS test statistic is larger than the critical value, the Null Hypothesis is rejected')\n",
    "else:\n",
    "    print ('The KS test statistic is smaller than the critical value, the Null Hypothesis is not rejected')\n",
    "\n",
    "# Critical Value @ 0.05 significance = 1.36 / Sample Size (810827)\n",
    "# Source: http://www.real-statistics.com/statistics-tables/kolmogorov-smirnov-table/\n",
    "\n",
    "\n"
   ]
  },
  {
   "cell_type": "code",
   "execution_count": 83,
   "metadata": {
    "collapsed": false
   },
   "outputs": [
    {
     "name": "stdout",
     "output_type": "stream",
     "text": [
      "The AD test statistic is larger than the critical value, the Null Hypothesis is rejected\n"
     ]
    }
   ],
   "source": [
    "# Anderson Darling Test - Normal Distribution \n",
    "adtest_1 =  scipy.stats.anderson(age_Dist, dist='norm')\n",
    "\n",
    "adtest_stat = adtest_1[0]    # Anderson Darling Test Statistic\n",
    "adtest_cv1 = adtest_1[1][2]  # Anderson Darling Critical Value @ 0.05 significance\n",
    "\n",
    "if adtest_stat > adtest_cv1:\n",
    "    print ('The AD test statistic is larger than the critical value, the Null Hypothesis is rejected')\n",
    "else:\n",
    "    print ('The AD test statistic is smaller than the critical value, the Null Hypothesis is not rejected')\n",
    "\n",
    "\n"
   ]
  },
  {
   "cell_type": "markdown",
   "metadata": {},
   "source": [
    "### Null Hypothesis (HO):  The data follows a logistic distribution\n",
    "### Alternative Hypothesis (HA):  The data does not follow a logistic distribution\n",
    "### Significance Level - 0.05"
   ]
  },
  {
   "cell_type": "code",
   "execution_count": 84,
   "metadata": {
    "collapsed": false
   },
   "outputs": [
    {
     "name": "stdout",
     "output_type": "stream",
     "text": [
      "The KS test statistic is larger than the critical value, the Null Hypothesis is rejected\n"
     ]
    }
   ],
   "source": [
    "# KS Test - Logistic Distribution\n",
    "\n",
    "kstest_2 = scipy.stats.kstest(age_Dist,'logistic')    \n",
    "kstest_cv2 = 1.36 / np.sqrt(len(age_Dist))     # Critical Value = see notes at the bottom of this cell\n",
    "\n",
    "if kstest_2[0] > kstest_cv2:\n",
    "    print ('The KS test statistic is larger than the critical value, the Null Hypothesis is rejected')\n",
    "else:\n",
    "    print ('The KS test statistic is smaller than the critical value, the Null Hypothesis is not rejected')\n",
    "\n",
    "# Critical Value @ 0.05 significance = 1.36 / Sample Size (810827)\n",
    "# Source: http://www.real-statistics.com/statistics-tables/kolmogorov-smirnov-table/\n",
    "\n",
    "\n",
    "\n"
   ]
  },
  {
   "cell_type": "code",
   "execution_count": 85,
   "metadata": {
    "collapsed": false
   },
   "outputs": [
    {
     "name": "stdout",
     "output_type": "stream",
     "text": [
      "The AD test statistic is larger than the critical value, the Null Hypothesis is rejected\n"
     ]
    }
   ],
   "source": [
    "# Anderson Darling Test - Logistic Distribution \n",
    "adtest_2 =  scipy.stats.anderson(age_Dist, dist='logistic')\n",
    "\n",
    "adtest_stat2 = adtest_2[0]    # Anderson Darling Test Statistic\n",
    "adtest_cv2 = adtest_2[1][2]  # Anderson Darling Critical Value @ 0.05 significance\n",
    "\n",
    "if adtest_stat2 > adtest_cv2:\n",
    "    print ('The AD test statistic is larger than the critical value, the Null Hypothesis is rejected')\n",
    "else:\n",
    "    print ('The AD test statistic is smaller than the critical value, the Null Hypothesis is not rejected')\n"
   ]
  },
  {
   "cell_type": "code",
   "execution_count": 86,
   "metadata": {
    "collapsed": false
   },
   "outputs": [
    {
     "name": "stdout",
     "output_type": "stream",
     "text": [
      "Mean age of Citibike Riders, June 2015:  39.7436197857\n"
     ]
    },
    {
     "data": {
      "image/png": "[encoded data removed]",
      "text/plain": [
       "<matplotlib.figure.Figure at 0x7f83ec73fb10>"
      ]
     },
     "metadata": {},
     "output_type": "display_data"
    }
   ],
   "source": [
    "pl.hist(age_Dist)\n",
    "pl.title('Age Distribution of of Citibike Riders - June 2015')\n",
    "pl.xlabel('Age Range')\n",
    "pl.ylabel('Rider Count')\n",
    "print ('Mean age of Citibike Riders, June 2015: ', age_Dist.mean())"
   ]
  },
  {
   "cell_type": "markdown",
   "metadata": {},
   "source": [
    "#### The mean age of the citibike rider distribution is approximately 39.7 years old.  In the histogram above, depicting counts of citibike riders by age cohort, we see the most riders in the 30 - 40 age group, which is to be expected given the mean of the distribution.  The above histogram is also consistent with the Central Limit Theorem, as the greatest concentration of riders fall in those age ranges closest to the mean (30 - 40 and 40 - 50 year olds), with declining concentrations the further from the mean one goes."
   ]
  },
  {
   "cell_type": "code",
   "execution_count": null,
   "metadata": {
    "collapsed": true
   },
   "outputs": [],
   "source": []
  }
 ],
 "metadata": {
  "kernelspec": {
   "display_name": "PUI2016_Python2",
   "language": "python",
   "name": "pui2016_python2"
  },
  "language_info": {
   "codemirror_mode": {
    "name": "ipython",
    "version": 2
   },
   "file_extension": ".py",
   "mimetype": "text/x-python",
   "name": "python",
   "nbconvert_exporter": "python",
   "pygments_lexer": "ipython2",
   "version": "2.7.12"
  }
 },
 "nbformat": 4,
 "nbformat_minor": 0
}
